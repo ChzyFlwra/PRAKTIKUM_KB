{
 "cells": [
  {
   "cell_type": "code",
   "execution_count": 30,
   "metadata": {},
   "outputs": [],
   "source": [
    "import pandas as pd\n",
    "import matplotlib.pyplot as plt\n",
    "import seaborn as sns\n",
    "\n",
    "\n",
    "dataFrame = pd.read_csv(\"NYC_Motor_Vehicle_Collisions_to_Person.csv\")\n"
   ]
  },
  {
   "cell_type": "markdown",
   "metadata": {},
   "source": [
    "1. menampilkan rata - rata, standar deviasi, nilai minimum, nilai maksimum, Q1,Q2,Q3 dari attribute bertipe angk"
   ]
  },
  {
   "cell_type": "code",
   "execution_count": 31,
   "metadata": {},
   "outputs": [
    {
     "data": {
      "text/html": [
       "<div>\n",
       "<style scoped>\n",
       "    .dataframe tbody tr th:only-of-type {\n",
       "        vertical-align: middle;\n",
       "    }\n",
       "\n",
       "    .dataframe tbody tr th {\n",
       "        vertical-align: top;\n",
       "    }\n",
       "\n",
       "    .dataframe thead th {\n",
       "        text-align: right;\n",
       "    }\n",
       "</style>\n",
       "<table border=\"1\" class=\"dataframe\">\n",
       "  <thead>\n",
       "    <tr style=\"text-align: right;\">\n",
       "      <th></th>\n",
       "      <th>PERSON_AGE</th>\n",
       "      <th>VEHICLE_ID</th>\n",
       "      <th>UNIQUE_ID</th>\n",
       "      <th>COLLISION_ID</th>\n",
       "    </tr>\n",
       "  </thead>\n",
       "  <tbody>\n",
       "    <tr>\n",
       "      <th>count</th>\n",
       "      <td>45248.000000</td>\n",
       "      <td>3.909800e+04</td>\n",
       "      <td>4.566900e+04</td>\n",
       "      <td>4.566900e+04</td>\n",
       "    </tr>\n",
       "    <tr>\n",
       "      <th>mean</th>\n",
       "      <td>37.487646</td>\n",
       "      <td>1.999663e+07</td>\n",
       "      <td>1.183588e+07</td>\n",
       "      <td>4.431737e+06</td>\n",
       "    </tr>\n",
       "    <tr>\n",
       "      <th>std</th>\n",
       "      <td>81.492032</td>\n",
       "      <td>7.940981e+04</td>\n",
       "      <td>1.375828e+05</td>\n",
       "      <td>2.753403e+04</td>\n",
       "    </tr>\n",
       "    <tr>\n",
       "      <th>min</th>\n",
       "      <td>-971.000000</td>\n",
       "      <td>1.982197e+07</td>\n",
       "      <td>1.153725e+07</td>\n",
       "      <td>4.380715e+06</td>\n",
       "    </tr>\n",
       "    <tr>\n",
       "      <th>25%</th>\n",
       "      <td>25.000000</td>\n",
       "      <td>1.996078e+07</td>\n",
       "      <td>1.177289e+07</td>\n",
       "      <td>4.408781e+06</td>\n",
       "    </tr>\n",
       "    <tr>\n",
       "      <th>50%</th>\n",
       "      <td>34.000000</td>\n",
       "      <td>2.000877e+07</td>\n",
       "      <td>1.185680e+07</td>\n",
       "      <td>4.432358e+06</td>\n",
       "    </tr>\n",
       "    <tr>\n",
       "      <th>75%</th>\n",
       "      <td>48.000000</td>\n",
       "      <td>2.005868e+07</td>\n",
       "      <td>1.194421e+07</td>\n",
       "      <td>4.455395e+06</td>\n",
       "    </tr>\n",
       "    <tr>\n",
       "      <th>max</th>\n",
       "      <td>9999.000000</td>\n",
       "      <td>2.010992e+07</td>\n",
       "      <td>1.203146e+07</td>\n",
       "      <td>4.478832e+06</td>\n",
       "    </tr>\n",
       "  </tbody>\n",
       "</table>\n",
       "</div>"
      ],
      "text/plain": [
       "         PERSON_AGE    VEHICLE_ID     UNIQUE_ID  COLLISION_ID\n",
       "count  45248.000000  3.909800e+04  4.566900e+04  4.566900e+04\n",
       "mean      37.487646  1.999663e+07  1.183588e+07  4.431737e+06\n",
       "std       81.492032  7.940981e+04  1.375828e+05  2.753403e+04\n",
       "min     -971.000000  1.982197e+07  1.153725e+07  4.380715e+06\n",
       "25%       25.000000  1.996078e+07  1.177289e+07  4.408781e+06\n",
       "50%       34.000000  2.000877e+07  1.185680e+07  4.432358e+06\n",
       "75%       48.000000  2.005868e+07  1.194421e+07  4.455395e+06\n",
       "max     9999.000000  2.010992e+07  1.203146e+07  4.478832e+06"
      ]
     },
     "execution_count": 31,
     "metadata": {},
     "output_type": "execute_result"
    }
   ],
   "source": [
    "dataFrame.describe()"
   ]
  },
  {
   "cell_type": "markdown",
   "metadata": {},
   "source": [
    "2. menampilkan 10 record pertama dari dataset dengan attribute angka"
   ]
  },
  {
   "cell_type": "code",
   "execution_count": 32,
   "metadata": {},
   "outputs": [
    {
     "data": {
      "text/html": [
       "<div>\n",
       "<style scoped>\n",
       "    .dataframe tbody tr th:only-of-type {\n",
       "        vertical-align: middle;\n",
       "    }\n",
       "\n",
       "    .dataframe tbody tr th {\n",
       "        vertical-align: top;\n",
       "    }\n",
       "\n",
       "    .dataframe thead th {\n",
       "        text-align: right;\n",
       "    }\n",
       "</style>\n",
       "<table border=\"1\" class=\"dataframe\">\n",
       "  <thead>\n",
       "    <tr style=\"text-align: right;\">\n",
       "      <th></th>\n",
       "      <th>UNIQUE_ID</th>\n",
       "      <th>COLLISION_ID</th>\n",
       "    </tr>\n",
       "  </thead>\n",
       "  <tbody>\n",
       "    <tr>\n",
       "      <th>0</th>\n",
       "      <td>11791937</td>\n",
       "      <td>4412948</td>\n",
       "    </tr>\n",
       "    <tr>\n",
       "      <th>1</th>\n",
       "      <td>11819198</td>\n",
       "      <td>4419608</td>\n",
       "    </tr>\n",
       "    <tr>\n",
       "      <th>2</th>\n",
       "      <td>11998317</td>\n",
       "      <td>4467504</td>\n",
       "    </tr>\n",
       "    <tr>\n",
       "      <th>3</th>\n",
       "      <td>11745791</td>\n",
       "      <td>4408062</td>\n",
       "    </tr>\n",
       "    <tr>\n",
       "      <th>4</th>\n",
       "      <td>11991283</td>\n",
       "      <td>4420918</td>\n",
       "    </tr>\n",
       "    <tr>\n",
       "      <th>5</th>\n",
       "      <td>11784113</td>\n",
       "      <td>4407069</td>\n",
       "    </tr>\n",
       "    <tr>\n",
       "      <th>6</th>\n",
       "      <td>11589611</td>\n",
       "      <td>4384065</td>\n",
       "    </tr>\n",
       "    <tr>\n",
       "      <th>7</th>\n",
       "      <td>11558357</td>\n",
       "      <td>4385848</td>\n",
       "    </tr>\n",
       "    <tr>\n",
       "      <th>8</th>\n",
       "      <td>11985005</td>\n",
       "      <td>4453643</td>\n",
       "    </tr>\n",
       "    <tr>\n",
       "      <th>9</th>\n",
       "      <td>11832119</td>\n",
       "      <td>4413273</td>\n",
       "    </tr>\n",
       "  </tbody>\n",
       "</table>\n",
       "</div>"
      ],
      "text/plain": [
       "   UNIQUE_ID  COLLISION_ID\n",
       "0   11791937       4412948\n",
       "1   11819198       4419608\n",
       "2   11998317       4467504\n",
       "3   11745791       4408062\n",
       "4   11991283       4420918\n",
       "5   11784113       4407069\n",
       "6   11589611       4384065\n",
       "7   11558357       4385848\n",
       "8   11985005       4453643\n",
       "9   11832119       4413273"
      ]
     },
     "execution_count": 32,
     "metadata": {},
     "output_type": "execute_result"
    }
   ],
   "source": [
    "dataFrame.select_dtypes(\"int\").head(10)"
   ]
  },
  {
   "cell_type": "markdown",
   "metadata": {},
   "source": [
    "3. menampilkan informasi jumlah record, jumlah attribute, nama attribute, jumlah attribute dengan tipe angka"
   ]
  },
  {
   "cell_type": "code",
   "execution_count": 33,
   "metadata": {},
   "outputs": [
    {
     "name": "stdout",
     "output_type": "stream",
     "text": [
      "Jumlah record : 45669\n",
      "Jumlah attribute : 21\n",
      "Nama attribute : ['CRASH_DATE', 'CRASH_TIME', 'PERSON_INJURY', 'PERSON_AGE', 'BODILY_INJURY', 'SAFETY_EQUIPMENT', 'PERSON_SEX', 'PERSON_TYPE', 'PED_LOCATION', 'CONTRIBUTING_FACTOR_2', 'EJECTION', 'COMPLAINT', 'EMOTIONAL_STATUS', 'VEHICLE_ID', 'PERSON_ID', 'CONTRIBUTING_FACTOR_1', 'POSITION_IN_VEHICLE', 'PED_ROLE', 'UNIQUE_ID', 'PED_ACTION', 'COLLISION_ID']\n",
      "Jumlah attribute bertipe angka : 2\n"
     ]
    }
   ],
   "source": [
    "total_records = dataFrame.shape[0]\n",
    "total_attributes = len(dataFrame.columns)\n",
    "attributes = list(dataFrame.columns.values)\n",
    "total_attributes_number = len(dataFrame.select_dtypes('int').columns)\n",
    "\n",
    "info = {\n",
    "    'Jumlah record': total_records,\n",
    "    'Jumlah attribute': total_attributes,\n",
    "    'Nama attribute': attributes,\n",
    "    'Jumlah attribute bertipe angka': total_attributes_number,\n",
    "}\n",
    "\n",
    "for key, value in info.items():\n",
    "    print(key, \":\", value)"
   ]
  },
  {
   "cell_type": "markdown",
   "metadata": {},
   "source": [
    "4. menampilkan jumlah label dari semua attribute bernilai object"
   ]
  },
  {
   "cell_type": "code",
   "execution_count": 34,
   "metadata": {},
   "outputs": [
    {
     "data": {
      "text/plain": [
       "45669"
      ]
     },
     "execution_count": 34,
     "metadata": {},
     "output_type": "execute_result"
    }
   ],
   "source": [
    "len(dataFrame.select_dtypes('object'))"
   ]
  },
  {
   "cell_type": "markdown",
   "metadata": {},
   "source": [
    "5. visualiasikan dataset dengan salah satu grafik"
   ]
  },
  {
   "cell_type": "code",
   "execution_count": 35,
   "metadata": {},
   "outputs": [
    {
     "data": {
      "image/png": "[encoded data removed]",
      "text/plain": [
       "<Figure size 640x480 with 1 Axes>"
      ]
     },
     "metadata": {},
     "output_type": "display_data"
    }
   ],
   "source": [
    "plt.hist(dataFrame['PERSON_INJURY'])\n",
    "plt.title('Data Total dan Status Korban')\n",
    "plt.xlabel('Status Korban')\n",
    "plt.ylabel('Total Korban')\n",
    "plt.show()"
   ]
  },
  {
   "cell_type": "markdown",
   "metadata": {},
   "source": [
    "6. tampilkan korelasi dataset menggunakan heatmap\n"
   ]
  },
  {
   "cell_type": "code",
   "execution_count": 36,
   "metadata": {},
   "outputs": [
    {
     "data": {
      "text/plain": [
       "<AxesSubplot: >"
      ]
     },
     "execution_count": 36,
     "metadata": {},
     "output_type": "execute_result"
    },
    {
     "data": {
      "image/png": "[encoded data removed]",
      "text/plain": [
       "<Figure size 640x480 with 2 Axes>"
      ]
     },
     "metadata": {},
     "output_type": "display_data"
    }
   ],
   "source": [
    "total_corr = dataFrame.loc[:, 'CRASH_TIME':'COLLISION_ID'].corr()\n",
    "total_corr \n",
    "sns.heatmap(total_corr , annot=True, cmap='cividis')"
   ]
  },
  {
   "cell_type": "markdown",
   "metadata": {},
   "source": [
    "7. kesimpulannya adalah Secara keseluruhan, kode ini menganalisis dan menvisualisasikan data tabrakan kendaraan di NYC, berfokus pada statistik deskriptif, korelasi, dan distribusi korban."
   ]
  }
 ],
 "metadata": {
  "kernelspec": {
   "display_name": "Python 3",
   "language": "python",
   "name": "python3"
  },
  "language_info": {
   "codemirror_mode": {
    "name": "ipython",
    "version": 3
   },
   "file_extension": ".py",
   "mimetype": "text/x-python",
   "name": "python",
   "nbconvert_exporter": "python",
   "pygments_lexer": "ipython3",
   "version": "3.10.7"
  }
 },
 "nbformat": 4,
 "nbformat_minor": 2
}
