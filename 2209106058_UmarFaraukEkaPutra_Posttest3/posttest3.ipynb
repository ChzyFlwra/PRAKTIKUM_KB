{
 "cells": [
  {
   "cell_type": "markdown",
   "metadata": {},
   "source": [
    "import semua yg kita perlukan\n"
   ]
  },
  {
   "cell_type": "code",
   "execution_count": 1,
   "metadata": {},
   "outputs": [],
   "source": [
    "from sklearn.impute import SimpleImputer\n",
    "from sklearn.preprocessing import StandardScaler\n",
    "from sklearn.preprocessing import MinMaxScaler\n",
    "from sklearn.preprocessing import OrdinalEncoder\n",
    "from sklearn.preprocessing import OneHotEncoder\n",
    "from sklearn.model_selection import train_test_split\n",
    "import pandas as pd "
   ]
  },
  {
   "cell_type": "code",
   "execution_count": 2,
   "metadata": {},
   "outputs": [],
   "source": [
    "df = pd.read_csv('NYC_Motor_Vehicle_Collisions_to_Person.csv')"
   ]
  },
  {
   "cell_type": "markdown",
   "metadata": {},
   "source": [
    "1. Data Cleaning"
   ]
  },
  {
   "cell_type": "code",
   "execution_count": 3,
   "metadata": {},
   "outputs": [],
   "source": [
    "df = df.copy()"
   ]
  },
  {
   "cell_type": "code",
   "execution_count": 4,
   "metadata": {},
   "outputs": [
    {
     "name": "stdout",
     "output_type": "stream",
     "text": [
      "NIlai Duplikat: \n"
     ]
    },
    {
     "data": {
      "text/plain": [
       "np.int64(45669)"
      ]
     },
     "execution_count": 4,
     "metadata": {},
     "output_type": "execute_result"
    }
   ],
   "source": [
    "df = pd.concat([df, df], ignore_index=True)\n",
    "print(\"NIlai Duplikat: \")\n",
    "df.duplicated().sum()\n"
   ]
  },
  {
   "cell_type": "code",
   "execution_count": 5,
   "metadata": {},
   "outputs": [
    {
     "name": "stdout",
     "output_type": "stream",
     "text": [
      "NIlai Duplikat: \n"
     ]
    },
    {
     "data": {
      "text/plain": [
       "np.int64(0)"
      ]
     },
     "execution_count": 5,
     "metadata": {},
     "output_type": "execute_result"
    }
   ],
   "source": [
    "df.drop_duplicates(inplace=True)\n",
    "print(\"NIlai Duplikat: \")\n",
    "df.duplicated().sum()"
   ]
  },
  {
   "cell_type": "code",
   "execution_count": 6,
   "metadata": {},
   "outputs": [
    {
     "data": {
      "text/plain": [
       "CRASH_DATE                   0\n",
       "CRASH_TIME                   0\n",
       "PERSON_INJURY                0\n",
       "PERSON_AGE                 421\n",
       "BODILY_INJURY                0\n",
       "SAFETY_EQUIPMENT         12177\n",
       "PERSON_SEX                   0\n",
       "PERSON_TYPE                  0\n",
       "PED_LOCATION             39098\n",
       "CONTRIBUTING_FACTOR_2    39123\n",
       "EJECTION                  6240\n",
       "COMPLAINT                    0\n",
       "EMOTIONAL_STATUS             0\n",
       "VEHICLE_ID                6571\n",
       "PERSON_ID                    0\n",
       "CONTRIBUTING_FACTOR_1    39111\n",
       "POSITION_IN_VEHICLE       6221\n",
       "PED_ROLE                     0\n",
       "UNIQUE_ID                    0\n",
       "PED_ACTION               39098\n",
       "COLLISION_ID                 0\n",
       "dtype: int64"
      ]
     },
     "execution_count": 6,
     "metadata": {},
     "output_type": "execute_result"
    }
   ],
   "source": [
    "df.isnull().sum()"
   ]
  },
  {
   "cell_type": "code",
   "execution_count": 7,
   "metadata": {},
   "outputs": [],
   "source": [
    "df_modus = SimpleImputer(strategy='most_frequent')\n",
    "df[['PERSON_AGE', 'SAFETY_EQUIPMENT', 'PED_LOCATION', 'CONTRIBUTING_FACTOR_2', 'EJECTION', 'VEHICLE_ID', 'CONTRIBUTING_FACTOR_1', 'POSITION_IN_VEHICLE', 'PED_ACTION']] = df_modus.fit_transform(df[['PERSON_AGE', 'SAFETY_EQUIPMENT', 'PED_LOCATION', 'CONTRIBUTING_FACTOR_2', 'EJECTION', 'VEHICLE_ID', 'CONTRIBUTING_FACTOR_1', 'POSITION_IN_VEHICLE', 'PED_ACTION']])"
   ]
  },
  {
   "cell_type": "code",
   "execution_count": 8,
   "metadata": {},
   "outputs": [
    {
     "data": {
      "text/plain": [
       "CRASH_DATE               0\n",
       "CRASH_TIME               0\n",
       "PERSON_INJURY            0\n",
       "PERSON_AGE               0\n",
       "BODILY_INJURY            0\n",
       "SAFETY_EQUIPMENT         0\n",
       "PERSON_SEX               0\n",
       "PERSON_TYPE              0\n",
       "PED_LOCATION             0\n",
       "CONTRIBUTING_FACTOR_2    0\n",
       "EJECTION                 0\n",
       "COMPLAINT                0\n",
       "EMOTIONAL_STATUS         0\n",
       "VEHICLE_ID               0\n",
       "PERSON_ID                0\n",
       "CONTRIBUTING_FACTOR_1    0\n",
       "POSITION_IN_VEHICLE      0\n",
       "PED_ROLE                 0\n",
       "UNIQUE_ID                0\n",
       "PED_ACTION               0\n",
       "COLLISION_ID             0\n",
       "dtype: int64"
      ]
     },
     "execution_count": 8,
     "metadata": {},
     "output_type": "execute_result"
    }
   ],
   "source": [
    "df.isnull().sum()"
   ]
  },
  {
   "cell_type": "markdown",
   "metadata": {},
   "source": [
    "4. feature engineering"
   ]
  },
  {
   "cell_type": "code",
   "execution_count": 9,
   "metadata": {},
   "outputs": [
    {
     "data": {
      "text/html": [
       "<div>\n",
       "<style scoped>\n",
       "    .dataframe tbody tr th:only-of-type {\n",
       "        vertical-align: middle;\n",
       "    }\n",
       "\n",
       "    .dataframe tbody tr th {\n",
       "        vertical-align: top;\n",
       "    }\n",
       "\n",
       "    .dataframe thead th {\n",
       "        text-align: right;\n",
       "    }\n",
       "</style>\n",
       "<table border=\"1\" class=\"dataframe\">\n",
       "  <thead>\n",
       "    <tr style=\"text-align: right;\">\n",
       "      <th></th>\n",
       "      <th>PERSON_AGE</th>\n",
       "      <th>Age_Group</th>\n",
       "    </tr>\n",
       "  </thead>\n",
       "  <tbody>\n",
       "    <tr>\n",
       "      <th>0</th>\n",
       "      <td>62.0</td>\n",
       "      <td>Senior</td>\n",
       "    </tr>\n",
       "    <tr>\n",
       "      <th>1</th>\n",
       "      <td>24.0</td>\n",
       "      <td>Young Adult</td>\n",
       "    </tr>\n",
       "    <tr>\n",
       "      <th>2</th>\n",
       "      <td>30.0</td>\n",
       "      <td>Young Adult</td>\n",
       "    </tr>\n",
       "    <tr>\n",
       "      <th>3</th>\n",
       "      <td>71.0</td>\n",
       "      <td>Senior</td>\n",
       "    </tr>\n",
       "    <tr>\n",
       "      <th>4</th>\n",
       "      <td>69.0</td>\n",
       "      <td>Senior</td>\n",
       "    </tr>\n",
       "  </tbody>\n",
       "</table>\n",
       "</div>"
      ],
      "text/plain": [
       "  PERSON_AGE    Age_Group\n",
       "0       62.0       Senior\n",
       "1       24.0  Young Adult\n",
       "2       30.0  Young Adult\n",
       "3       71.0       Senior\n",
       "4       69.0       Senior"
      ]
     },
     "execution_count": 9,
     "metadata": {},
     "output_type": "execute_result"
    }
   ],
   "source": [
    "bins = [0, 12, 18, 35, 60, 80]\n",
    "labels = ['Child', 'Teen', 'Young Adult', 'Adult', 'Senior']\n",
    "df['Age_Group'] = pd.cut(df['PERSON_AGE'], bins=bins, labels=labels)\n",
    "df[['PERSON_AGE', 'Age_Group']].head()"
   ]
  },
  {
   "cell_type": "markdown",
   "metadata": {},
   "source": [
    "2. Normalisasi/standarisasi kolom numerik"
   ]
  },
  {
   "cell_type": "markdown",
   "metadata": {},
   "source": [
    "STANDARISASI"
   ]
  },
  {
   "cell_type": "code",
   "execution_count": 10,
   "metadata": {},
   "outputs": [],
   "source": [
    "df1 = pd.read_csv('NYC_Motor_Vehicle_Collisions_to_Person_Copy.csv')\n",
    "slr = StandardScaler()\n",
    "df1[['PERSON_AGE', 'VEHICLE_ID', 'UNIQUE_ID', 'COLLISION_ID']] = slr.fit_transform(df1[['PERSON_AGE', 'VEHICLE_ID', 'UNIQUE_ID', 'COLLISION_ID']])"
   ]
  },
  {
   "cell_type": "markdown",
   "metadata": {},
   "source": [
    "NORMALISASI"
   ]
  },
  {
   "cell_type": "code",
   "execution_count": 11,
   "metadata": {},
   "outputs": [],
   "source": [
    "mx = MinMaxScaler()\n",
    "df1[['PERSON_AGE', 'VEHICLE_ID', 'UNIQUE_ID', 'COLLISION_ID']] = mx.fit_transform(df1[['PERSON_AGE', 'VEHICLE_ID', 'UNIQUE_ID', 'COLLISION_ID']])"
   ]
  },
  {
   "cell_type": "code",
   "execution_count": 12,
   "metadata": {},
   "outputs": [
    {
     "data": {
      "text/plain": [
       "np.float64(1.0)"
      ]
     },
     "execution_count": 12,
     "metadata": {},
     "output_type": "execute_result"
    }
   ],
   "source": [
    "df1['PERSON_AGE'].max()"
   ]
  },
  {
   "cell_type": "code",
   "execution_count": 13,
   "metadata": {},
   "outputs": [
    {
     "data": {
      "text/plain": [
       "np.float64(0.0)"
      ]
     },
     "execution_count": 13,
     "metadata": {},
     "output_type": "execute_result"
    }
   ],
   "source": [
    "df1['PERSON_AGE'].min()"
   ]
  },
  {
   "cell_type": "markdown",
   "metadata": {},
   "source": [
    "3. encoding"
   ]
  },
  {
   "cell_type": "code",
   "execution_count": 14,
   "metadata": {},
   "outputs": [],
   "source": [
    "df2 = pd.read_csv('NYC_Motor_Vehicle_Collisions_to_Person_copy1.csv')"
   ]
  },
  {
   "cell_type": "code",
   "execution_count": 15,
   "metadata": {},
   "outputs": [
    {
     "data": {
      "text/html": [
       "<div>\n",
       "<style scoped>\n",
       "    .dataframe tbody tr th:only-of-type {\n",
       "        vertical-align: middle;\n",
       "    }\n",
       "\n",
       "    .dataframe tbody tr th {\n",
       "        vertical-align: top;\n",
       "    }\n",
       "\n",
       "    .dataframe thead th {\n",
       "        text-align: right;\n",
       "    }\n",
       "</style>\n",
       "<table border=\"1\" class=\"dataframe\">\n",
       "  <thead>\n",
       "    <tr style=\"text-align: right;\">\n",
       "      <th></th>\n",
       "      <th>PERSON_INJURY</th>\n",
       "      <th>BODILY_INJURY</th>\n",
       "      <th>PERSON_SEX</th>\n",
       "    </tr>\n",
       "  </thead>\n",
       "  <tbody>\n",
       "    <tr>\n",
       "      <th>0</th>\n",
       "      <td>Killed</td>\n",
       "      <td>Head</td>\n",
       "      <td>F</td>\n",
       "    </tr>\n",
       "    <tr>\n",
       "      <th>1</th>\n",
       "      <td>Killed</td>\n",
       "      <td>Entire Body</td>\n",
       "      <td>M</td>\n",
       "    </tr>\n",
       "    <tr>\n",
       "      <th>2</th>\n",
       "      <td>Killed</td>\n",
       "      <td>Head</td>\n",
       "      <td>M</td>\n",
       "    </tr>\n",
       "    <tr>\n",
       "      <th>3</th>\n",
       "      <td>Killed</td>\n",
       "      <td>Head</td>\n",
       "      <td>M</td>\n",
       "    </tr>\n",
       "    <tr>\n",
       "      <th>4</th>\n",
       "      <td>Killed</td>\n",
       "      <td>Entire Body</td>\n",
       "      <td>F</td>\n",
       "    </tr>\n",
       "    <tr>\n",
       "      <th>...</th>\n",
       "      <td>...</td>\n",
       "      <td>...</td>\n",
       "      <td>...</td>\n",
       "    </tr>\n",
       "    <tr>\n",
       "      <th>45664</th>\n",
       "      <td>Injured</td>\n",
       "      <td>Back</td>\n",
       "      <td>M</td>\n",
       "    </tr>\n",
       "    <tr>\n",
       "      <th>45665</th>\n",
       "      <td>Injured</td>\n",
       "      <td>Knee-Lower Leg Foot</td>\n",
       "      <td>M</td>\n",
       "    </tr>\n",
       "    <tr>\n",
       "      <th>45666</th>\n",
       "      <td>Injured</td>\n",
       "      <td>Head</td>\n",
       "      <td>F</td>\n",
       "    </tr>\n",
       "    <tr>\n",
       "      <th>45667</th>\n",
       "      <td>Injured</td>\n",
       "      <td>Elbow-Lower-Arm-Hand</td>\n",
       "      <td>F</td>\n",
       "    </tr>\n",
       "    <tr>\n",
       "      <th>45668</th>\n",
       "      <td>Injured</td>\n",
       "      <td>Shoulder - Upper Arm</td>\n",
       "      <td>M</td>\n",
       "    </tr>\n",
       "  </tbody>\n",
       "</table>\n",
       "<p>45669 rows × 3 columns</p>\n",
       "</div>"
      ],
      "text/plain": [
       "      PERSON_INJURY         BODILY_INJURY PERSON_SEX\n",
       "0            Killed                  Head          F\n",
       "1            Killed           Entire Body          M\n",
       "2            Killed                  Head          M\n",
       "3            Killed                  Head          M\n",
       "4            Killed           Entire Body          F\n",
       "...             ...                   ...        ...\n",
       "45664       Injured                  Back          M\n",
       "45665       Injured   Knee-Lower Leg Foot          M\n",
       "45666       Injured                  Head          F\n",
       "45667       Injured  Elbow-Lower-Arm-Hand          F\n",
       "45668       Injured  Shoulder - Upper Arm          M\n",
       "\n",
       "[45669 rows x 3 columns]"
      ]
     },
     "execution_count": 15,
     "metadata": {},
     "output_type": "execute_result"
    }
   ],
   "source": [
    "df2[['PERSON_INJURY', 'BODILY_INJURY', 'PERSON_SEX']]"
   ]
  },
  {
   "cell_type": "code",
   "execution_count": 16,
   "metadata": {},
   "outputs": [],
   "source": [
    "hot = OneHotEncoder(sparse_output=False)\n",
    "encoded = hot.fit_transform(df2[['PERSON_INJURY', 'PERSON_SEX']])"
   ]
  },
  {
   "cell_type": "code",
   "execution_count": 17,
   "metadata": {},
   "outputs": [
    {
     "data": {
      "text/html": [
       "<div>\n",
       "<style scoped>\n",
       "    .dataframe tbody tr th:only-of-type {\n",
       "        vertical-align: middle;\n",
       "    }\n",
       "\n",
       "    .dataframe tbody tr th {\n",
       "        vertical-align: top;\n",
       "    }\n",
       "\n",
       "    .dataframe thead th {\n",
       "        text-align: right;\n",
       "    }\n",
       "</style>\n",
       "<table border=\"1\" class=\"dataframe\">\n",
       "  <thead>\n",
       "    <tr style=\"text-align: right;\">\n",
       "      <th></th>\n",
       "      <th>Killed</th>\n",
       "      <th>Injured</th>\n",
       "      <th>M</th>\n",
       "      <th>F</th>\n",
       "      <th>U</th>\n",
       "    </tr>\n",
       "  </thead>\n",
       "  <tbody>\n",
       "    <tr>\n",
       "      <th>0</th>\n",
       "      <td>0.0</td>\n",
       "      <td>1.0</td>\n",
       "      <td>1.0</td>\n",
       "      <td>0.0</td>\n",
       "      <td>0.0</td>\n",
       "    </tr>\n",
       "    <tr>\n",
       "      <th>1</th>\n",
       "      <td>0.0</td>\n",
       "      <td>1.0</td>\n",
       "      <td>0.0</td>\n",
       "      <td>1.0</td>\n",
       "      <td>0.0</td>\n",
       "    </tr>\n",
       "    <tr>\n",
       "      <th>2</th>\n",
       "      <td>0.0</td>\n",
       "      <td>1.0</td>\n",
       "      <td>0.0</td>\n",
       "      <td>1.0</td>\n",
       "      <td>0.0</td>\n",
       "    </tr>\n",
       "    <tr>\n",
       "      <th>3</th>\n",
       "      <td>0.0</td>\n",
       "      <td>1.0</td>\n",
       "      <td>0.0</td>\n",
       "      <td>1.0</td>\n",
       "      <td>0.0</td>\n",
       "    </tr>\n",
       "    <tr>\n",
       "      <th>4</th>\n",
       "      <td>0.0</td>\n",
       "      <td>1.0</td>\n",
       "      <td>1.0</td>\n",
       "      <td>0.0</td>\n",
       "      <td>0.0</td>\n",
       "    </tr>\n",
       "    <tr>\n",
       "      <th>...</th>\n",
       "      <td>...</td>\n",
       "      <td>...</td>\n",
       "      <td>...</td>\n",
       "      <td>...</td>\n",
       "      <td>...</td>\n",
       "    </tr>\n",
       "    <tr>\n",
       "      <th>45664</th>\n",
       "      <td>1.0</td>\n",
       "      <td>0.0</td>\n",
       "      <td>0.0</td>\n",
       "      <td>1.0</td>\n",
       "      <td>0.0</td>\n",
       "    </tr>\n",
       "    <tr>\n",
       "      <th>45665</th>\n",
       "      <td>1.0</td>\n",
       "      <td>0.0</td>\n",
       "      <td>0.0</td>\n",
       "      <td>1.0</td>\n",
       "      <td>0.0</td>\n",
       "    </tr>\n",
       "    <tr>\n",
       "      <th>45666</th>\n",
       "      <td>1.0</td>\n",
       "      <td>0.0</td>\n",
       "      <td>1.0</td>\n",
       "      <td>0.0</td>\n",
       "      <td>0.0</td>\n",
       "    </tr>\n",
       "    <tr>\n",
       "      <th>45667</th>\n",
       "      <td>1.0</td>\n",
       "      <td>0.0</td>\n",
       "      <td>1.0</td>\n",
       "      <td>0.0</td>\n",
       "      <td>0.0</td>\n",
       "    </tr>\n",
       "    <tr>\n",
       "      <th>45668</th>\n",
       "      <td>1.0</td>\n",
       "      <td>0.0</td>\n",
       "      <td>0.0</td>\n",
       "      <td>1.0</td>\n",
       "      <td>0.0</td>\n",
       "    </tr>\n",
       "  </tbody>\n",
       "</table>\n",
       "<p>45669 rows × 5 columns</p>\n",
       "</div>"
      ],
      "text/plain": [
       "       Killed  Injured    M    F    U\n",
       "0         0.0      1.0  1.0  0.0  0.0\n",
       "1         0.0      1.0  0.0  1.0  0.0\n",
       "2         0.0      1.0  0.0  1.0  0.0\n",
       "3         0.0      1.0  0.0  1.0  0.0\n",
       "4         0.0      1.0  1.0  0.0  0.0\n",
       "...       ...      ...  ...  ...  ...\n",
       "45664     1.0      0.0  0.0  1.0  0.0\n",
       "45665     1.0      0.0  0.0  1.0  0.0\n",
       "45666     1.0      0.0  1.0  0.0  0.0\n",
       "45667     1.0      0.0  1.0  0.0  0.0\n",
       "45668     1.0      0.0  0.0  1.0  0.0\n",
       "\n",
       "[45669 rows x 5 columns]"
      ]
     },
     "execution_count": 17,
     "metadata": {},
     "output_type": "execute_result"
    }
   ],
   "source": [
    "encoded1 = pd.DataFrame(encoded,columns=['Killed', 'Injured', 'M', 'F', 'U'])\n",
    "encoded1"
   ]
  },
  {
   "cell_type": "markdown",
   "metadata": {},
   "source": [
    "5. split data"
   ]
  },
  {
   "cell_type": "code",
   "execution_count": 18,
   "metadata": {},
   "outputs": [],
   "source": [
    "X = df.drop(columns='PERSON_AGE')\n",
    "y = df['PERSON_AGE']"
   ]
  },
  {
   "cell_type": "code",
   "execution_count": 19,
   "metadata": {},
   "outputs": [],
   "source": [
    "X_train, X_test, y_train, y_test = train_test_split(X, y, test_size=0.3, random_state=42)"
   ]
  },
  {
   "cell_type": "code",
   "execution_count": 20,
   "metadata": {},
   "outputs": [
    {
     "name": "stdout",
     "output_type": "stream",
     "text": [
      "(31968, 21)\n",
      "(13701, 21)\n",
      "(31968,)\n",
      "(13701,)\n"
     ]
    }
   ],
   "source": [
    "print(X_train.shape)\n",
    "print(X_test.shape)\n",
    "print(y_train.shape)\n",
    "print(y_test.shape)"
   ]
  },
  {
   "cell_type": "markdown",
   "metadata": {},
   "source": [
    "disini kita melakukan datasplit, dimana kita menentukan x dan y nya untuk di training set dan testing set\n",
    "kita memakai test size nya 0,3, karena 0,3 melambangkan 30% dari total data 100% data dan menjadi sisa data 70%"
   ]
  }
 ],
 "metadata": {
  "kernelspec": {
   "display_name": ".venv",
   "language": "python",
   "name": "python3"
  },
  "language_info": {
   "codemirror_mode": {
    "name": "ipython",
    "version": 3
   },
   "file_extension": ".py",
   "mimetype": "text/x-python",
   "name": "python",
   "nbconvert_exporter": "python",
   "pygments_lexer": "ipython3",
   "version": "3.10.7"
  }
 },
 "nbformat": 4,
 "nbformat_minor": 2
}
